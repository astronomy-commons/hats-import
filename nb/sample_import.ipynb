{
 "cells": [
  {
   "cell_type": "markdown",
   "id": "86730320-06f2-4a60-9af3-ac6212f2858c",
   "metadata": {},
   "source": [
    "### Sample import for gaia\n",
    "This notebook will download the first 10 files for gaia dr3 and import them as a hipscat."
   ]
  },
  {
   "cell_type": "code",
   "execution_count": 1,
   "id": "e92906ec-5357-4637-ab43-f25b960476bc",
   "metadata": {},
   "outputs": [],
   "source": [
    "import numpy as np\n",
    "import pandas as pd\n",
    "import healpy as hp\n",
    "import requests\n",
    "import httplib2\n",
    "import json\n",
    "import os\n",
    "from bs4 import BeautifulSoup, SoupStrainer\n",
    "from hipscat.io import write_metadata\n",
    "\n",
    "def get_cat_urls(url='http://cdn.gea.esac.esa.int/Gaia/gdr3/gaia_source/', fmt='.csv.gz'):\n",
    "    \"\"\"\n",
    "    This function parses the source url 'https://cdn.gea.esac.esa.int/Gaia/gdr3/gaia_source/'\n",
    "    for .csv.gz files and returns them as a list.\n",
    "\n",
    "    :param url: the source url from where the Gaia data needs to be downloaded\n",
    "    :return: list object with file names\n",
    "    \"\"\"\n",
    "\n",
    "    try:\n",
    "        http = httplib2.Http()\n",
    "        status, response = http.request(url)\n",
    "    except requests.exceptions.HTTPError as err:\n",
    "        raise SystemExit(err)\n",
    "\n",
    "    csv_files = []\n",
    "    for link in BeautifulSoup(response, parse_only=SoupStrainer('a'), features=\"html.parser\"):\n",
    "        if link.has_attr('href') and link['href'].endswith(fmt):\n",
    "            abs_path = url + link['href']\n",
    "            csv_files.append(abs_path)\n",
    "\n",
    "    return csv_files\n",
    "\n",
    "def cache_sample_data(output_dir, sample_data, skiprows=None):\n",
    "    cache_dir = os.path.join(output_dir, \"cache\")\n",
    "    if not os.path.exists(cache_dir):\n",
    "        os.makedirs(cache_dir)\n",
    "        \n",
    "    for fn in sample_data:\n",
    "        parqFn = os.path.join(cache_dir, os.path.basename(fn).split('.')[0] + '.parquet')\n",
    "        if not os.path.exists(parqFn):\n",
    "            df = pd.read_csv(fn, skiprows=skiprows)\n",
    "            df.to_parquet(parqFn)\n",
    "\n",
    "    return cache_dir\n",
    "\n",
    "def write_parquet_metadata(cache_dir):\n",
    "    write_metadata.write_parquet_metadata(cache_dir)\n",
    "    return os.path.join(cache_dir, \"_metadata\")\n",
    "\n"
   ]
  },
  {
   "cell_type": "code",
   "execution_count": 2,
   "id": "44c9be3c-bb3a-443b-a717-8234f1a89792",
   "metadata": {},
   "outputs": [
    {
     "name": "stderr",
     "output_type": "stream",
     "text": [
      "Mapping  : 100%|█████████████████████████████████████████████████████████████████████████████████████████████████████████████████████████████████████| 10/10 [00:11<00:00,  1.18s/it]\n",
      "Binning  : 100%|███████████████████████████████████████████████████████████████████████████████████████████████████████████████████████████████████████| 1/1 [00:45<00:00, 45.30s/it]\n",
      "Splitting: 100%|█████████████████████████████████████████████████████████████████████████████████████████████████████████████████████████████████████| 10/10 [00:47<00:00,  4.80s/it]\n",
      "Reducing : 100%|█████████████████████████████████████████████████████████████████████████████████████████████████████████████████████████████████████| 23/23 [00:55<00:00,  2.43s/it]\n",
      "Finishing: 100%|███████████████████████████████████████████████████████████████████████████████████████████████████████████████████████████████████████| 6/6 [00:02<00:00,  2.27it/s]\n"
     ]
    }
   ],
   "source": [
    "import hipscat_import.pipeline as runner\n",
    "from hipscat_import.catalog.arguments import ImportArguments\n",
    "\n",
    "output_dir = os.path.join(os.getcwd(), \"output\")\n",
    "if not os.path.exists(output_dir):\n",
    "    os.makedirs(output_dir)\n",
    "\n",
    "cache_dir = cache_sample_data(output_dir, get_cat_urls()[:10], skiprows=np.arange(0,1000))\n",
    "schema_file = write_parquet_metadata(cache_dir)\n",
    "\n",
    "args = ImportArguments(    \n",
    "    output_catalog_name=\"sample_gaia\",\n",
    "    input_path=cache_dir,\n",
    "    input_format=\"parquet\",\n",
    "    ra_column=\"ra\",\n",
    "    dec_column=\"dec\",\n",
    "    id_column=\"source_id\",\n",
    "    output_path=output_dir,\n",
    "    use_schema_file=schema_file\n",
    "    manual_dtypes={'libname_gspphot':'unicode'},\n",
    "    pixel_threshold=500_000,\n",
    "    overwrite=True\n",
    ")\n",
    "runner.pipeline(args)"
   ]
  },
  {
   "cell_type": "code",
   "execution_count": 4,
   "id": "36c27340-1ada-4fa6-9524-53749af60055",
   "metadata": {},
   "outputs": [
    {
     "name": "stdout",
     "output_type": "stream",
     "text": [
      "hipscat path to \"sample_gaia\": /Users/crisp/git-clones/hipscat-import/nb/output/sample_gaia\n"
     ]
    }
   ],
   "source": [
    "final_path = os.path.join(output_dir, \"sample_gaia\")\n",
    "print(f\"hipscat path to \\\"sample_gaia\\\": {final_path}\")"
   ]
  },
  {
   "cell_type": "code",
   "execution_count": null,
   "id": "68335939-df5e-46c5-996d-a276fb446aab",
   "metadata": {},
   "outputs": [],
   "source": []
  }
 ],
 "metadata": {
  "kernelspec": {
   "display_name": "hipscat",
   "language": "python",
   "name": "hipscat"
  },
  "language_info": {
   "codemirror_mode": {
    "name": "ipython",
    "version": 3
   },
   "file_extension": ".py",
   "mimetype": "text/x-python",
   "name": "python",
   "nbconvert_exporter": "python",
   "pygments_lexer": "ipython3",
   "version": "3.10.12"
  }
 },
 "nbformat": 4,
 "nbformat_minor": 5
}
